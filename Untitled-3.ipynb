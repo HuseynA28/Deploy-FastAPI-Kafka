{
 "cells": [
  {
   "cell_type": "code",
   "execution_count": 14,
   "metadata": {},
   "outputs": [],
   "source": [
    "import polars as pl\n"
   ]
  },
  {
   "cell_type": "code",
   "execution_count": 3,
   "metadata": {},
   "outputs": [],
   "source": [
    "json_str=\"kafka-fastapi/response_1740050499335.json\""
   ]
  },
  {
   "cell_type": "code",
   "execution_count": 4,
   "metadata": {},
   "outputs": [
    {
     "ename": "AttributeError",
     "evalue": "module 'polar' has no attribute 'read_json'",
     "output_type": "error",
     "traceback": [
      "\u001b[0;31m---------------------------------------------------------------------------\u001b[0m",
      "\u001b[0;31mAttributeError\u001b[0m                            Traceback (most recent call last)",
      "Cell \u001b[0;32mIn[4], line 1\u001b[0m\n\u001b[0;32m----> 1\u001b[0m \u001b[43mpl\u001b[49m\u001b[38;5;241;43m.\u001b[39;49m\u001b[43mread_json\u001b[49m(StringIO(json_str))\n",
      "\u001b[0;31mAttributeError\u001b[0m: module 'polar' has no attribute 'read_json'"
     ]
    }
   ],
   "source": [
    "pl.read_json(StringIO(json_str))"
   ]
  },
  {
   "cell_type": "code",
   "execution_count": 15,
   "metadata": {},
   "outputs": [],
   "source": [
    "import json\n",
    "import polars as pl\n",
    "\n",
    "with open(\"kafka-fastapi/data.json\") as f:\n",
    "    data = json.load(f)\n",
    "\n",
    "df = pl.DataFrame(data)\n",
    "\n",
    "\n"
   ]
  },
  {
   "cell_type": "code",
   "execution_count": 16,
   "metadata": {},
   "outputs": [
    {
     "data": {
      "text/html": [
       "<div><style>\n",
       ".dataframe > thead > tr,\n",
       ".dataframe > tbody > tr {\n",
       "  text-align: right;\n",
       "  white-space: pre-wrap;\n",
       "}\n",
       "</style>\n",
       "<small>shape: (5, 17)</small><table border=\"1\" class=\"dataframe\"><thead><tr><th>id</th><th>createdTime</th><th>additionalInfo</th><th>tenantId</th><th>customerId</th><th>name</th><th>type</th><th>label</th><th>deviceProfileId</th><th>deviceData</th><th>firmwareId</th><th>softwareId</th><th>externalId</th><th>ownerName</th><th>groups</th><th>active</th><th>ownerId</th></tr><tr><td>struct[2]</td><td>i64</td><td>struct[3]</td><td>struct[2]</td><td>struct[2]</td><td>str</td><td>str</td><td>str</td><td>struct[2]</td><td>struct[2]</td><td>null</td><td>null</td><td>null</td><td>null</td><td>list[struct[2]]</td><td>bool</td><td>struct[2]</td></tr></thead><tbody><tr><td>{&quot;DEVICE&quot;,&quot;0c4b80a0-9b26-11ec-bcd8-afb5f342d01b&quot;}</td><td>1646334825898</td><td>null</td><td>{&quot;TENANT&quot;,&quot;df80bdc0-18be-11e9-b7c6-afc03ecb7b2a&quot;}</td><td>{&quot;CUSTOMER&quot;,&quot;4412d9e0-ab8c-11ec-bcd8-afb5f342d01b&quot;}</td><td>&quot;GKC-C4DD57B6A504&quot;</td><td>&quot;IntelliGateAIR&quot;</td><td>null</td><td>{&quot;DEVICE_PROFILE&quot;,&quot;a792d3a0-5cbb-11ec-9110-c758097501fa&quot;}</td><td>{{&quot;DEFAULT&quot;},{&quot;DEFAULT&quot;}}</td><td>null</td><td>null</td><td>null</td><td>null</td><td>[{{&quot;ENTITY_GROUP&quot;,&quot;3096fba0-d67d-11ec-9b9b-072109ec9a92&quot;},&quot;Fans&quot;}]</td><td>false</td><td>{&quot;CUSTOMER&quot;,&quot;4412d9e0-ab8c-11ec-bcd8-afb5f342d01b&quot;}</td></tr><tr><td>{&quot;DEVICE&quot;,&quot;0c5062a0-9b26-11ec-bcd8-afb5f342d01b&quot;}</td><td>1646334825930</td><td>{false,false,&quot;&quot;}</td><td>{&quot;TENANT&quot;,&quot;df80bdc0-18be-11e9-b7c6-afc03ecb7b2a&quot;}</td><td>{&quot;CUSTOMER&quot;,&quot;4412d9e0-ab8c-11ec-bcd8-afb5f342d01b&quot;}</td><td>&quot;GKC-C4DD57B6A504-003&quot;</td><td>&quot;Modbus V5.0 Fan&quot;</td><td>&quot;Exhaust2&quot;</td><td>{&quot;DEVICE_PROFILE&quot;,&quot;c0f576b0-e626-11eb-9908-490b30a63a7a&quot;}</td><td>{{&quot;DEFAULT&quot;},{&quot;DEFAULT&quot;}}</td><td>null</td><td>null</td><td>null</td><td>null</td><td>[{{&quot;ENTITY_GROUP&quot;,&quot;3096fba0-d67d-11ec-9b9b-072109ec9a92&quot;},&quot;Fans&quot;}]</td><td>false</td><td>{&quot;CUSTOMER&quot;,&quot;4412d9e0-ab8c-11ec-bcd8-afb5f342d01b&quot;}</td></tr><tr><td>{&quot;DEVICE&quot;,&quot;0c5544a0-9b26-11ec-bcd8-afb5f342d01b&quot;}</td><td>1646334825962</td><td>{false,false,&quot;&quot;}</td><td>{&quot;TENANT&quot;,&quot;df80bdc0-18be-11e9-b7c6-afc03ecb7b2a&quot;}</td><td>{&quot;CUSTOMER&quot;,&quot;4412d9e0-ab8c-11ec-bcd8-afb5f342d01b&quot;}</td><td>&quot;GKC-C4DD57B6A504-002&quot;</td><td>&quot;Modbus V6 Fan&quot;</td><td>&quot;Inlet2&quot;</td><td>{&quot;DEVICE_PROFILE&quot;,&quot;c0f66110-e626-11eb-9908-490b30a63a7a&quot;}</td><td>{{&quot;DEFAULT&quot;},{&quot;DEFAULT&quot;}}</td><td>null</td><td>null</td><td>null</td><td>null</td><td>[{{&quot;ENTITY_GROUP&quot;,&quot;3096fba0-d67d-11ec-9b9b-072109ec9a92&quot;},&quot;Fans&quot;}]</td><td>false</td><td>{&quot;CUSTOMER&quot;,&quot;4412d9e0-ab8c-11ec-bcd8-afb5f342d01b&quot;}</td></tr><tr><td>{&quot;DEVICE&quot;,&quot;6f0cc8d0-ab8d-11ec-bcd8-afb5f342d01b&quot;}</td><td>1648138448349</td><td>{false,false,&quot;&quot;}</td><td>{&quot;TENANT&quot;,&quot;df80bdc0-18be-11e9-b7c6-afc03ecb7b2a&quot;}</td><td>{&quot;CUSTOMER&quot;,&quot;4412d9e0-ab8c-11ec-bcd8-afb5f342d01b&quot;}</td><td>&quot;Test Device Daume&quot;</td><td>&quot;default&quot;</td><td>&quot;&quot;</td><td>{&quot;DEVICE_PROFILE&quot;,&quot;bff4a880-e626-11eb-9908-490b30a63a7a&quot;}</td><td>{{&quot;DEFAULT&quot;},{&quot;DEFAULT&quot;}}</td><td>null</td><td>null</td><td>null</td><td>null</td><td>[]</td><td>false</td><td>{&quot;CUSTOMER&quot;,&quot;4412d9e0-ab8c-11ec-bcd8-afb5f342d01b&quot;}</td></tr><tr><td>{&quot;DEVICE&quot;,&quot;806bb700-c175-11ec-bcd8-afb5f342d01b&quot;}</td><td>1650547095152</td><td>{false,false,&quot;&quot;}</td><td>{&quot;TENANT&quot;,&quot;df80bdc0-18be-11e9-b7c6-afc03ecb7b2a&quot;}</td><td>{&quot;CUSTOMER&quot;,&quot;4412d9e0-ab8c-11ec-bcd8-afb5f342d01b&quot;}</td><td>&quot;GKC-C4DD57B6A504-016&quot;</td><td>&quot;Thermokon&quot;</td><td>null</td><td>{&quot;DEVICE_PROFILE&quot;,&quot;d31258d0-c560-11ec-bcd8-afb5f342d01b&quot;}</td><td>{{&quot;DEFAULT&quot;},{&quot;DEFAULT&quot;}}</td><td>null</td><td>null</td><td>null</td><td>null</td><td>[{{&quot;ENTITY_GROUP&quot;,&quot;3096fba0-d67d-11ec-9b9b-072109ec9a92&quot;},&quot;Fans&quot;}]</td><td>false</td><td>{&quot;CUSTOMER&quot;,&quot;4412d9e0-ab8c-11ec-bcd8-afb5f342d01b&quot;}</td></tr></tbody></table></div>"
      ],
      "text/plain": [
       "shape: (5, 17)\n",
       "┌────────────┬────────────┬───────────┬───────────┬───┬───────────┬───────────┬────────┬───────────┐\n",
       "│ id         ┆ createdTim ┆ additiona ┆ tenantId  ┆ … ┆ ownerName ┆ groups    ┆ active ┆ ownerId   │\n",
       "│ ---        ┆ e          ┆ lInfo     ┆ ---       ┆   ┆ ---       ┆ ---       ┆ ---    ┆ ---       │\n",
       "│ struct[2]  ┆ ---        ┆ ---       ┆ struct[2] ┆   ┆ null      ┆ list[stru ┆ bool   ┆ struct[2] │\n",
       "│            ┆ i64        ┆ struct[3] ┆           ┆   ┆           ┆ ct[2]]    ┆        ┆           │\n",
       "╞════════════╪════════════╪═══════════╪═══════════╪═══╪═══════════╪═══════════╪════════╪═══════════╡\n",
       "│ {\"DEVICE\", ┆ 1646334825 ┆ null      ┆ {\"TENANT\" ┆ … ┆ null      ┆ [{{\"ENTIT ┆ false  ┆ {\"CUSTOME │\n",
       "│ \"0c4b80a0- ┆ 898        ┆           ┆ ,\"df80bdc ┆   ┆           ┆ Y_GROUP\", ┆        ┆ R\",\"4412d │\n",
       "│ 9b26-11ec- ┆            ┆           ┆ 0-18be-11 ┆   ┆           ┆ \"3096fba0 ┆        ┆ 9e0-ab8c- │\n",
       "│ …          ┆            ┆           ┆ e9-…      ┆   ┆           ┆ -d6…      ┆        ┆ 11e…      │\n",
       "│ {\"DEVICE\", ┆ 1646334825 ┆ {false,fa ┆ {\"TENANT\" ┆ … ┆ null      ┆ [{{\"ENTIT ┆ false  ┆ {\"CUSTOME │\n",
       "│ \"0c5062a0- ┆ 930        ┆ lse,\"\"}   ┆ ,\"df80bdc ┆   ┆           ┆ Y_GROUP\", ┆        ┆ R\",\"4412d │\n",
       "│ 9b26-11ec- ┆            ┆           ┆ 0-18be-11 ┆   ┆           ┆ \"3096fba0 ┆        ┆ 9e0-ab8c- │\n",
       "│ …          ┆            ┆           ┆ e9-…      ┆   ┆           ┆ -d6…      ┆        ┆ 11e…      │\n",
       "│ {\"DEVICE\", ┆ 1646334825 ┆ {false,fa ┆ {\"TENANT\" ┆ … ┆ null      ┆ [{{\"ENTIT ┆ false  ┆ {\"CUSTOME │\n",
       "│ \"0c5544a0- ┆ 962        ┆ lse,\"\"}   ┆ ,\"df80bdc ┆   ┆           ┆ Y_GROUP\", ┆        ┆ R\",\"4412d │\n",
       "│ 9b26-11ec- ┆            ┆           ┆ 0-18be-11 ┆   ┆           ┆ \"3096fba0 ┆        ┆ 9e0-ab8c- │\n",
       "│ …          ┆            ┆           ┆ e9-…      ┆   ┆           ┆ -d6…      ┆        ┆ 11e…      │\n",
       "│ {\"DEVICE\", ┆ 1648138448 ┆ {false,fa ┆ {\"TENANT\" ┆ … ┆ null      ┆ []        ┆ false  ┆ {\"CUSTOME │\n",
       "│ \"6f0cc8d0- ┆ 349        ┆ lse,\"\"}   ┆ ,\"df80bdc ┆   ┆           ┆           ┆        ┆ R\",\"4412d │\n",
       "│ ab8d-11ec- ┆            ┆           ┆ 0-18be-11 ┆   ┆           ┆           ┆        ┆ 9e0-ab8c- │\n",
       "│ …          ┆            ┆           ┆ e9-…      ┆   ┆           ┆           ┆        ┆ 11e…      │\n",
       "│ {\"DEVICE\", ┆ 1650547095 ┆ {false,fa ┆ {\"TENANT\" ┆ … ┆ null      ┆ [{{\"ENTIT ┆ false  ┆ {\"CUSTOME │\n",
       "│ \"806bb700- ┆ 152        ┆ lse,\"\"}   ┆ ,\"df80bdc ┆   ┆           ┆ Y_GROUP\", ┆        ┆ R\",\"4412d │\n",
       "│ c175-11ec- ┆            ┆           ┆ 0-18be-11 ┆   ┆           ┆ \"3096fba0 ┆        ┆ 9e0-ab8c- │\n",
       "│ …          ┆            ┆           ┆ e9-…      ┆   ┆           ┆ -d6…      ┆        ┆ 11e…      │\n",
       "└────────────┴────────────┴───────────┴───────────┴───┴───────────┴───────────┴────────┴───────────┘"
      ]
     },
     "execution_count": 16,
     "metadata": {},
     "output_type": "execute_result"
    }
   ],
   "source": [
    "df.head()"
   ]
  },
  {
   "cell_type": "code",
   "execution_count": 23,
   "metadata": {},
   "outputs": [
    {
     "data": {
      "text/plain": [
       "'[{\"name\":\"GKC-C4DD57B6A504\",\"id\":\"0c4b80a0-9b26-11ec-bcd8-afb5f342d01b\",\"type\":\"IntelliGateAIR\",\"label\":null,\"customerId\":\"4412d9e0-ab8c-11ec-bcd8-afb5f342d01b\"},{\"name\":\"GKC-C4DD57B6A504-003\",\"id\":\"0c5062a0-9b26-11ec-bcd8-afb5f342d01b\",\"type\":\"Modbus V5.0 Fan\",\"label\":\"Exhaust2\",\"customerId\":\"4412d9e0-ab8c-11ec-bcd8-afb5f342d01b\"},{\"name\":\"GKC-C4DD57B6A504-002\",\"id\":\"0c5544a0-9b26-11ec-bcd8-afb5f342d01b\",\"type\":\"Modbus V6 Fan\",\"label\":\"Inlet2\",\"customerId\":\"4412d9e0-ab8c-11ec-bcd8-afb5f342d01b\"},{\"name\":\"Test Device Daume\",\"id\":\"6f0cc8d0-ab8d-11ec-bcd8-afb5f342d01b\",\"type\":\"default\",\"label\":\"\",\"customerId\":\"4412d9e0-ab8c-11ec-bcd8-afb5f342d01b\"},{\"name\":\"GKC-C4DD57B6A504-016\",\"id\":\"806bb700-c175-11ec-bcd8-afb5f342d01b\",\"type\":\"Thermokon\",\"label\":null,\"customerId\":\"4412d9e0-ab8c-11ec-bcd8-afb5f342d01b\"}]'"
      ]
     },
     "execution_count": 23,
     "metadata": {},
     "output_type": "execute_result"
    }
   ],
   "source": [
    "import polars as pl\n",
    "\n",
    "# Read JSON directly into a Polars DataFrame\n",
    "df = pl.DataFrame(data)\n",
    "\n",
    "# Extract nested fields using struct or JSON methods\n",
    "df = df.with_columns(\n",
    "    pl.col(\"id\").struct[\"id\"].alias(\"id\"),\n",
    "    pl.col(\"customerId\").struct[\"id\"].alias(\"customerId\")\n",
    ").select([\"name\", \"id\", \"type\", \"label\", \"customerId\"])\n",
    "df.write_json()"
   ]
  },
  {
   "cell_type": "code",
   "execution_count": 26,
   "metadata": {},
   "outputs": [
    {
     "data": {
      "text/plain": [
       "'/root'"
      ]
     },
     "execution_count": 26,
     "metadata": {},
     "output_type": "execute_result"
    }
   ],
   "source": [
    "import os\n",
    "from dotenv import load_dotenv\n",
    "\n",
    "cwd = os.getcwd()\n",
    "cwd"
   ]
  },
  {
   "cell_type": "code",
   "execution_count": 3,
   "metadata": {},
   "outputs": [
    {
     "name": "stdout",
     "output_type": "stream",
     "text": [
      "/root/main-kafka-main\n"
     ]
    }
   ],
   "source": [
    "import os\n",
    "print(os.getcwd())  # Prints the current working directory\n"
   ]
  },
  {
   "cell_type": "code",
   "execution_count": 11,
   "metadata": {},
   "outputs": [
    {
     "name": "stdout",
     "output_type": "stream",
     "text": [
      "DATAFRAME_OUTPUT_PATH None\n"
     ]
    }
   ],
   "source": [
    "from config import BASE_URL, DATAFRAME_OUTPUT_PATH\n",
    "print(\"DATAFRAME_OUTPUT_PATH\", DATAFRAME_OUTPUT_PATH)"
   ]
  },
  {
   "cell_type": "code",
   "execution_count": 5,
   "metadata": {},
   "outputs": [
    {
     "data": {
      "text/plain": [
       "'https://emea5.ebmpapstneo.io'"
      ]
     },
     "execution_count": 5,
     "metadata": {},
     "output_type": "execute_result"
    }
   ],
   "source": [
    "BASE_URL"
   ]
  },
  {
   "cell_type": "code",
   "execution_count": 2,
   "metadata": {},
   "outputs": [
    {
     "name": "stdout",
     "output_type": "stream",
     "text": [
      "/root/main-kafka-main\n"
     ]
    }
   ],
   "source": [
    "from pathlib import Path\n",
    "print(Path.cwd())  # Prints the current working directory\n"
   ]
  }
 ],
 "metadata": {
  "kernelspec": {
   "display_name": "Python 3",
   "language": "python",
   "name": "python3"
  },
  "language_info": {
   "codemirror_mode": {
    "name": "ipython",
    "version": 3
   },
   "file_extension": ".py",
   "mimetype": "text/x-python",
   "name": "python",
   "nbconvert_exporter": "python",
   "pygments_lexer": "ipython3",
   "version": "3.10.12"
  }
 },
 "nbformat": 4,
 "nbformat_minor": 2
}
