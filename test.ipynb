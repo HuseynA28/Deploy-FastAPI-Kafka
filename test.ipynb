{
 "cells": [
  {
   "cell_type": "code",
   "execution_count": 4,
   "metadata": {},
   "outputs": [],
   "source": [
    "from aiokafka import AIOKafkaConsumer\n",
    "\n",
    "async def consume_messages(topic: str):\n",
    "    consumer = AIOKafkaConsumer(topic, bootstrap_servers='localhost:9092', group_id='my-group')\n",
    "    await consumer.start()\n",
    "    try:\n",
    "        async for msg in consumer:\n",
    "            print(f'Received message: {msg.value.decode}')\n",
    "    except:\n",
    "        print(\"I failed\")"
   ]
  },
  {
   "cell_type": "code",
   "execution_count": 2,
   "metadata": {},
   "outputs": [
    {
     "name": "stdout",
     "output_type": "stream",
     "text": [
      "Requirement already satisfied: aiokafka in /usr/local/lib/python3.10/dist-packages (0.12.0)\n",
      "Requirement already satisfied: typing-extensions>=4.10.0 in /usr/local/lib/python3.10/dist-packages (from aiokafka) (4.12.2)\n",
      "Requirement already satisfied: async-timeout in /usr/local/lib/python3.10/dist-packages (from aiokafka) (5.0.1)\n",
      "Requirement already satisfied: packaging in /usr/local/lib/python3.10/dist-packages (from aiokafka) (24.2)\n",
      "\u001b[33mWARNING: Running pip as the 'root' user can result in broken permissions and conflicting behaviour with the system package manager. It is recommended to use a virtual environment instead: https://pip.pypa.io/warnings/venv\u001b[0m\u001b[33m\n",
      "\u001b[0mNote: you may need to restart the kernel to use updated packages.\n"
     ]
    }
   ],
   "source": [
    "pip install aiokafka"
   ]
  }
 ],
 "metadata": {
  "kernelspec": {
   "display_name": "Python 3",
   "language": "python",
   "name": "python3"
  },
  "language_info": {
   "codemirror_mode": {
    "name": "ipython",
    "version": 3
   },
   "file_extension": ".py",
   "mimetype": "text/x-python",
   "name": "python",
   "nbconvert_exporter": "python",
   "pygments_lexer": "ipython3",
   "version": "3.10.12"
  }
 },
 "nbformat": 4,
 "nbformat_minor": 2
}
